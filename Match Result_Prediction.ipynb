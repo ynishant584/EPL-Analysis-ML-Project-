{
 "cells": [
  {
   "cell_type": "code",
   "execution_count": 1,
   "metadata": {},
   "outputs": [],
   "source": [
    "#essentails\n",
    "import pandas as pd\n",
    "import numpy as np\n",
    "import matplotlib.pyplot as plt\n",
    "import seaborn as sns\n",
    "import sklearn\n",
    "\n",
    "#Models\n",
    "from xgboost import XGBClassifier, XGBRegressor\n",
    "from lightgbm import LGBMClassifier, LGBMRegressor\n",
    "\n",
    "from sklearn.ensemble import RandomForestClassifier, RandomForestRegressor\n",
    "\n",
    "from sklearn.ensemble import AdaBoostClassifier,AdaBoostRegressor\n",
    "from sklearn.svm import SVR, SVC\n",
    "\n",
    "\n",
    "#metrics and model_selection\n",
    "from sklearn.metrics import accuracy_score\n",
    "from sklearn.model_selection import cross_val_score\n",
    "\n",
    "#Plotting and Feature Selection\n",
    "import eli5\n",
    "# import pdpbox\n",
    "# from pdpbox import pdp, info_plots\n",
    "from eli5.sklearn import PermutationImportance\n",
    "from sklearn.feature_selection import RFECV"
   ]
  },
  {
   "cell_type": "code",
   "execution_count": 2,
   "metadata": {},
   "outputs": [
    {
     "data": {
      "text/html": [
       "<div>\n",
       "<style scoped>\n",
       "    .dataframe tbody tr th:only-of-type {\n",
       "        vertical-align: middle;\n",
       "    }\n",
       "\n",
       "    .dataframe tbody tr th {\n",
       "        vertical-align: top;\n",
       "    }\n",
       "\n",
       "    .dataframe thead th {\n",
       "        text-align: right;\n",
       "    }\n",
       "</style>\n",
       "<table border=\"1\" class=\"dataframe\">\n",
       "  <thead>\n",
       "    <tr style=\"text-align: right;\">\n",
       "      <th></th>\n",
       "      <th>season</th>\n",
       "      <th>stage</th>\n",
       "      <th>date</th>\n",
       "      <th>match_id</th>\n",
       "      <th>home_team_id</th>\n",
       "      <th>away_team_id</th>\n",
       "      <th>home_player_X1</th>\n",
       "      <th>home_player_X2</th>\n",
       "      <th>home_player_X3</th>\n",
       "      <th>home_player_X4</th>\n",
       "      <th>...</th>\n",
       "      <th>red_card_home_team</th>\n",
       "      <th>red_card_away_team</th>\n",
       "      <th>crosses_home_team</th>\n",
       "      <th>crosses_away_team</th>\n",
       "      <th>corner_home_team</th>\n",
       "      <th>corner_away_team</th>\n",
       "      <th>possession_home_team</th>\n",
       "      <th>possession_away_team</th>\n",
       "      <th>home_team_goal</th>\n",
       "      <th>away_team_goal</th>\n",
       "    </tr>\n",
       "  </thead>\n",
       "  <tbody>\n",
       "    <tr>\n",
       "      <th>0</th>\n",
       "      <td>2008/2009</td>\n",
       "      <td>1</td>\n",
       "      <td>2008-08-17 00:00:00</td>\n",
       "      <td>49337</td>\n",
       "      <td>10260</td>\n",
       "      <td>10261</td>\n",
       "      <td>1</td>\n",
       "      <td>2</td>\n",
       "      <td>4</td>\n",
       "      <td>6</td>\n",
       "      <td>...</td>\n",
       "      <td>0</td>\n",
       "      <td>0</td>\n",
       "      <td>24</td>\n",
       "      <td>9</td>\n",
       "      <td>6</td>\n",
       "      <td>6</td>\n",
       "      <td>55.0</td>\n",
       "      <td>45.0</td>\n",
       "      <td>1</td>\n",
       "      <td>1</td>\n",
       "    </tr>\n",
       "    <tr>\n",
       "      <th>1</th>\n",
       "      <td>2008/2009</td>\n",
       "      <td>1</td>\n",
       "      <td>2008-08-16 00:00:00</td>\n",
       "      <td>38136</td>\n",
       "      <td>9825</td>\n",
       "      <td>8659</td>\n",
       "      <td>1</td>\n",
       "      <td>2</td>\n",
       "      <td>4</td>\n",
       "      <td>6</td>\n",
       "      <td>...</td>\n",
       "      <td>0</td>\n",
       "      <td>0</td>\n",
       "      <td>21</td>\n",
       "      <td>7</td>\n",
       "      <td>7</td>\n",
       "      <td>5</td>\n",
       "      <td>66.0</td>\n",
       "      <td>34.0</td>\n",
       "      <td>1</td>\n",
       "      <td>0</td>\n",
       "    </tr>\n",
       "    <tr>\n",
       "      <th>2</th>\n",
       "      <td>2008/2009</td>\n",
       "      <td>1</td>\n",
       "      <td>2008-08-16 00:00:00</td>\n",
       "      <td>43276</td>\n",
       "      <td>8472</td>\n",
       "      <td>8650</td>\n",
       "      <td>1</td>\n",
       "      <td>2</td>\n",
       "      <td>4</td>\n",
       "      <td>6</td>\n",
       "      <td>...</td>\n",
       "      <td>0</td>\n",
       "      <td>0</td>\n",
       "      <td>15</td>\n",
       "      <td>19</td>\n",
       "      <td>1</td>\n",
       "      <td>8</td>\n",
       "      <td>46.0</td>\n",
       "      <td>54.0</td>\n",
       "      <td>0</td>\n",
       "      <td>1</td>\n",
       "    </tr>\n",
       "    <tr>\n",
       "      <th>3</th>\n",
       "      <td>2008/2009</td>\n",
       "      <td>1</td>\n",
       "      <td>2008-08-16 00:00:00</td>\n",
       "      <td>40671</td>\n",
       "      <td>8654</td>\n",
       "      <td>8528</td>\n",
       "      <td>1</td>\n",
       "      <td>2</td>\n",
       "      <td>4</td>\n",
       "      <td>6</td>\n",
       "      <td>...</td>\n",
       "      <td>0</td>\n",
       "      <td>0</td>\n",
       "      <td>15</td>\n",
       "      <td>27</td>\n",
       "      <td>6</td>\n",
       "      <td>10</td>\n",
       "      <td>52.0</td>\n",
       "      <td>48.0</td>\n",
       "      <td>2</td>\n",
       "      <td>1</td>\n",
       "    </tr>\n",
       "    <tr>\n",
       "      <th>4</th>\n",
       "      <td>2008/2009</td>\n",
       "      <td>1</td>\n",
       "      <td>2008-08-17 00:00:00</td>\n",
       "      <td>34633</td>\n",
       "      <td>10252</td>\n",
       "      <td>8456</td>\n",
       "      <td>1</td>\n",
       "      <td>2</td>\n",
       "      <td>4</td>\n",
       "      <td>6</td>\n",
       "      <td>...</td>\n",
       "      <td>0</td>\n",
       "      <td>0</td>\n",
       "      <td>16</td>\n",
       "      <td>16</td>\n",
       "      <td>7</td>\n",
       "      <td>8</td>\n",
       "      <td>52.0</td>\n",
       "      <td>48.0</td>\n",
       "      <td>4</td>\n",
       "      <td>2</td>\n",
       "    </tr>\n",
       "  </tbody>\n",
       "</table>\n",
       "<p>5 rows × 90 columns</p>\n",
       "</div>"
      ],
      "text/plain": [
       "      season  stage                 date  match_id  home_team_id  \\\n",
       "0  2008/2009      1  2008-08-17 00:00:00     49337         10260   \n",
       "1  2008/2009      1  2008-08-16 00:00:00     38136          9825   \n",
       "2  2008/2009      1  2008-08-16 00:00:00     43276          8472   \n",
       "3  2008/2009      1  2008-08-16 00:00:00     40671          8654   \n",
       "4  2008/2009      1  2008-08-17 00:00:00     34633         10252   \n",
       "\n",
       "   away_team_id  home_player_X1  home_player_X2  home_player_X3  \\\n",
       "0         10261               1               2               4   \n",
       "1          8659               1               2               4   \n",
       "2          8650               1               2               4   \n",
       "3          8528               1               2               4   \n",
       "4          8456               1               2               4   \n",
       "\n",
       "   home_player_X4  ...  red_card_home_team  red_card_away_team  \\\n",
       "0               6  ...                   0                   0   \n",
       "1               6  ...                   0                   0   \n",
       "2               6  ...                   0                   0   \n",
       "3               6  ...                   0                   0   \n",
       "4               6  ...                   0                   0   \n",
       "\n",
       "   crosses_home_team  crosses_away_team  corner_home_team  corner_away_team  \\\n",
       "0                 24                  9                 6                 6   \n",
       "1                 21                  7                 7                 5   \n",
       "2                 15                 19                 1                 8   \n",
       "3                 15                 27                 6                10   \n",
       "4                 16                 16                 7                 8   \n",
       "\n",
       "   possession_home_team  possession_away_team  home_team_goal  away_team_goal  \n",
       "0                  55.0                  45.0               1               1  \n",
       "1                  66.0                  34.0               1               0  \n",
       "2                  46.0                  54.0               0               1  \n",
       "3                  52.0                  48.0               2               1  \n",
       "4                  52.0                  48.0               4               2  \n",
       "\n",
       "[5 rows x 90 columns]"
      ]
     },
     "execution_count": 2,
     "metadata": {},
     "output_type": "execute_result"
    }
   ],
   "source": [
    "data = pd.read_csv(\"epl_matches_train.csv\")\n",
    "data.head()"
   ]
  },
  {
   "cell_type": "code",
   "execution_count": 3,
   "metadata": {},
   "outputs": [
    {
     "name": "stdout",
     "output_type": "stream",
     "text": [
      "<class 'pandas.core.frame.DataFrame'>\n",
      "RangeIndex: 2660 entries, 0 to 2659\n",
      "Data columns (total 90 columns):\n",
      " #   Column                     Non-Null Count  Dtype  \n",
      "---  ------                     --------------  -----  \n",
      " 0   season                     2660 non-null   object \n",
      " 1   stage                      2660 non-null   int64  \n",
      " 2   date                       2660 non-null   object \n",
      " 3   match_id                   2660 non-null   int64  \n",
      " 4   home_team_id               2660 non-null   int64  \n",
      " 5   away_team_id               2660 non-null   int64  \n",
      " 6   home_player_X1             2660 non-null   int64  \n",
      " 7   home_player_X2             2660 non-null   int64  \n",
      " 8   home_player_X3             2660 non-null   int64  \n",
      " 9   home_player_X4             2660 non-null   int64  \n",
      " 10  home_player_X5             2660 non-null   int64  \n",
      " 11  home_player_X6             2660 non-null   int64  \n",
      " 12  home_player_X7             2660 non-null   int64  \n",
      " 13  home_player_X8             2660 non-null   int64  \n",
      " 14  home_player_X9             2660 non-null   int64  \n",
      " 15  home_player_X10            2660 non-null   int64  \n",
      " 16  home_player_X11            2660 non-null   int64  \n",
      " 17  away_player_X1             2660 non-null   int64  \n",
      " 18  away_player_X2             2660 non-null   int64  \n",
      " 19  away_player_X3             2660 non-null   int64  \n",
      " 20  away_player_X4             2660 non-null   int64  \n",
      " 21  away_player_X5             2660 non-null   int64  \n",
      " 22  away_player_X6             2660 non-null   int64  \n",
      " 23  away_player_X7             2660 non-null   int64  \n",
      " 24  away_player_X8             2660 non-null   int64  \n",
      " 25  away_player_X9             2660 non-null   int64  \n",
      " 26  away_player_X10            2660 non-null   int64  \n",
      " 27  away_player_X11            2660 non-null   int64  \n",
      " 28  home_player_Y1             2660 non-null   int64  \n",
      " 29  home_player_Y2             2660 non-null   int64  \n",
      " 30  home_player_Y3             2660 non-null   int64  \n",
      " 31  home_player_Y4             2660 non-null   int64  \n",
      " 32  home_player_Y5             2660 non-null   int64  \n",
      " 33  home_player_Y6             2660 non-null   int64  \n",
      " 34  home_player_Y7             2660 non-null   int64  \n",
      " 35  home_player_Y8             2660 non-null   int64  \n",
      " 36  home_player_Y9             2660 non-null   int64  \n",
      " 37  home_player_Y10            2660 non-null   int64  \n",
      " 38  home_player_Y11            2660 non-null   int64  \n",
      " 39  away_player_Y1             2660 non-null   int64  \n",
      " 40  away_player_Y2             2660 non-null   int64  \n",
      " 41  away_player_Y3             2660 non-null   int64  \n",
      " 42  away_player_Y4             2660 non-null   int64  \n",
      " 43  away_player_Y5             2660 non-null   int64  \n",
      " 44  away_player_Y6             2660 non-null   int64  \n",
      " 45  away_player_Y7             2660 non-null   int64  \n",
      " 46  away_player_Y8             2660 non-null   int64  \n",
      " 47  away_player_Y9             2660 non-null   int64  \n",
      " 48  away_player_Y10            2660 non-null   int64  \n",
      " 49  away_player_Y11            2660 non-null   int64  \n",
      " 50  home_player_1              2660 non-null   int64  \n",
      " 51  home_player_2              2654 non-null   float64\n",
      " 52  home_player_3              2660 non-null   int64  \n",
      " 53  home_player_4              2660 non-null   int64  \n",
      " 54  home_player_5              2657 non-null   float64\n",
      " 55  home_player_6              2660 non-null   int64  \n",
      " 56  home_player_7              2655 non-null   float64\n",
      " 57  home_player_8              2654 non-null   float64\n",
      " 58  home_player_9              2658 non-null   float64\n",
      " 59  home_player_10             2653 non-null   float64\n",
      " 60  home_player_11             2659 non-null   float64\n",
      " 61  away_player_1              2660 non-null   int64  \n",
      " 62  away_player_2              2653 non-null   float64\n",
      " 63  away_player_3              2659 non-null   float64\n",
      " 64  away_player_4              2660 non-null   int64  \n",
      " 65  away_player_5              2653 non-null   float64\n",
      " 66  away_player_6              2656 non-null   float64\n",
      " 67  away_player_7              2653 non-null   float64\n",
      " 68  away_player_8              2658 non-null   float64\n",
      " 69  away_player_9              2654 non-null   float64\n",
      " 70  away_player_10             2652 non-null   float64\n",
      " 71  away_player_11             2655 non-null   float64\n",
      " 72  on_target_shot_home_team   2660 non-null   int64  \n",
      " 73  on_target_shot_away_team   2660 non-null   int64  \n",
      " 74  off_target_shot_home_team  2660 non-null   int64  \n",
      " 75  off_target_shot_away_team  2660 non-null   int64  \n",
      " 76  foul_home_team             2660 non-null   int64  \n",
      " 77  foul_away_team             2660 non-null   int64  \n",
      " 78  yellow_card_home_team      2660 non-null   int64  \n",
      " 79  yellow_card_away_team      2660 non-null   int64  \n",
      " 80  red_card_home_team         2660 non-null   int64  \n",
      " 81  red_card_away_team         2660 non-null   int64  \n",
      " 82  crosses_home_team          2660 non-null   int64  \n",
      " 83  crosses_away_team          2660 non-null   int64  \n",
      " 84  corner_home_team           2660 non-null   int64  \n",
      " 85  corner_away_team           2660 non-null   int64  \n",
      " 86  possession_home_team       2654 non-null   float64\n",
      " 87  possession_away_team       2654 non-null   float64\n",
      " 88  home_team_goal             2660 non-null   int64  \n",
      " 89  away_team_goal             2660 non-null   int64  \n",
      "dtypes: float64(18), int64(70), object(2)\n",
      "memory usage: 1.8+ MB\n"
     ]
    }
   ],
   "source": [
    "data.info()"
   ]
  },
  {
   "cell_type": "code",
   "execution_count": 4,
   "metadata": {
    "scrolled": true
   },
   "outputs": [
    {
     "data": {
      "text/plain": [
       "Index(['season', 'stage', 'date', 'match_id', 'home_team_id', 'away_team_id',\n",
       "       'home_player_X1', 'home_player_X2', 'home_player_X3', 'home_player_X4',\n",
       "       'home_player_X5', 'home_player_X6', 'home_player_X7', 'home_player_X8',\n",
       "       'home_player_X9', 'home_player_X10', 'home_player_X11',\n",
       "       'away_player_X1', 'away_player_X2', 'away_player_X3', 'away_player_X4',\n",
       "       'away_player_X5', 'away_player_X6', 'away_player_X7', 'away_player_X8',\n",
       "       'away_player_X9', 'away_player_X10', 'away_player_X11',\n",
       "       'home_player_Y1', 'home_player_Y2', 'home_player_Y3', 'home_player_Y4',\n",
       "       'home_player_Y5', 'home_player_Y6', 'home_player_Y7', 'home_player_Y8',\n",
       "       'home_player_Y9', 'home_player_Y10', 'home_player_Y11',\n",
       "       'away_player_Y1', 'away_player_Y2', 'away_player_Y3', 'away_player_Y4',\n",
       "       'away_player_Y5', 'away_player_Y6', 'away_player_Y7', 'away_player_Y8',\n",
       "       'away_player_Y9', 'away_player_Y10', 'away_player_Y11', 'home_player_1',\n",
       "       'home_player_2', 'home_player_3', 'home_player_4', 'home_player_5',\n",
       "       'home_player_6', 'home_player_7', 'home_player_8', 'home_player_9',\n",
       "       'home_player_10', 'home_player_11', 'away_player_1', 'away_player_2',\n",
       "       'away_player_3', 'away_player_4', 'away_player_5', 'away_player_6',\n",
       "       'away_player_7', 'away_player_8', 'away_player_9', 'away_player_10',\n",
       "       'away_player_11', 'on_target_shot_home_team',\n",
       "       'on_target_shot_away_team', 'off_target_shot_home_team',\n",
       "       'off_target_shot_away_team', 'foul_home_team', 'foul_away_team',\n",
       "       'yellow_card_home_team', 'yellow_card_away_team', 'red_card_home_team',\n",
       "       'red_card_away_team', 'crosses_home_team', 'crosses_away_team',\n",
       "       'corner_home_team', 'corner_away_team', 'possession_home_team',\n",
       "       'possession_away_team', 'home_team_goal', 'away_team_goal'],\n",
       "      dtype='object')"
      ]
     },
     "execution_count": 4,
     "metadata": {},
     "output_type": "execute_result"
    }
   ],
   "source": [
    "data.columns"
   ]
  },
  {
   "cell_type": "code",
   "execution_count": 5,
   "metadata": {},
   "outputs": [],
   "source": [
    "data['date'] = pd.to_datetime(data['date'], errors='coerce')\n",
    "data['month'] = data['date'].dt.month\n",
    "data['year'] = data['date'].dt.year"
   ]
  },
  {
   "cell_type": "code",
   "execution_count": 6,
   "metadata": {},
   "outputs": [],
   "source": [
    "data = data.drop(columns = ['date'] , axis =1)\n",
    "data = data.drop(columns = ['season'] , axis =1)"
   ]
  },
  {
   "cell_type": "code",
   "execution_count": 7,
   "metadata": {},
   "outputs": [],
   "source": [
    "def func(x):\n",
    "    if x<0:\n",
    "        return 0\n",
    "    elif x==0:\n",
    "        return 1\n",
    "    else:\n",
    "        return 2"
   ]
  },
  {
   "cell_type": "code",
   "execution_count": 8,
   "metadata": {},
   "outputs": [
    {
     "data": {
      "text/html": [
       "<div>\n",
       "<style scoped>\n",
       "    .dataframe tbody tr th:only-of-type {\n",
       "        vertical-align: middle;\n",
       "    }\n",
       "\n",
       "    .dataframe tbody tr th {\n",
       "        vertical-align: top;\n",
       "    }\n",
       "\n",
       "    .dataframe thead th {\n",
       "        text-align: right;\n",
       "    }\n",
       "</style>\n",
       "<table border=\"1\" class=\"dataframe\">\n",
       "  <thead>\n",
       "    <tr style=\"text-align: right;\">\n",
       "      <th></th>\n",
       "      <th>stage</th>\n",
       "      <th>match_id</th>\n",
       "      <th>home_team_id</th>\n",
       "      <th>away_team_id</th>\n",
       "      <th>home_player_X1</th>\n",
       "      <th>home_player_X2</th>\n",
       "      <th>home_player_X3</th>\n",
       "      <th>home_player_X4</th>\n",
       "      <th>home_player_X5</th>\n",
       "      <th>home_player_X6</th>\n",
       "      <th>...</th>\n",
       "      <th>corner_home_team</th>\n",
       "      <th>corner_away_team</th>\n",
       "      <th>possession_home_team</th>\n",
       "      <th>possession_away_team</th>\n",
       "      <th>home_team_goal</th>\n",
       "      <th>away_team_goal</th>\n",
       "      <th>month</th>\n",
       "      <th>year</th>\n",
       "      <th>Value</th>\n",
       "      <th>Label</th>\n",
       "    </tr>\n",
       "  </thead>\n",
       "  <tbody>\n",
       "    <tr>\n",
       "      <th>0</th>\n",
       "      <td>1</td>\n",
       "      <td>49337</td>\n",
       "      <td>10260</td>\n",
       "      <td>10261</td>\n",
       "      <td>1</td>\n",
       "      <td>2</td>\n",
       "      <td>4</td>\n",
       "      <td>6</td>\n",
       "      <td>8</td>\n",
       "      <td>2</td>\n",
       "      <td>...</td>\n",
       "      <td>6</td>\n",
       "      <td>6</td>\n",
       "      <td>55.0</td>\n",
       "      <td>45.0</td>\n",
       "      <td>1</td>\n",
       "      <td>1</td>\n",
       "      <td>8</td>\n",
       "      <td>2008</td>\n",
       "      <td>0</td>\n",
       "      <td>1</td>\n",
       "    </tr>\n",
       "    <tr>\n",
       "      <th>1</th>\n",
       "      <td>1</td>\n",
       "      <td>38136</td>\n",
       "      <td>9825</td>\n",
       "      <td>8659</td>\n",
       "      <td>1</td>\n",
       "      <td>2</td>\n",
       "      <td>4</td>\n",
       "      <td>6</td>\n",
       "      <td>8</td>\n",
       "      <td>2</td>\n",
       "      <td>...</td>\n",
       "      <td>7</td>\n",
       "      <td>5</td>\n",
       "      <td>66.0</td>\n",
       "      <td>34.0</td>\n",
       "      <td>1</td>\n",
       "      <td>0</td>\n",
       "      <td>8</td>\n",
       "      <td>2008</td>\n",
       "      <td>1</td>\n",
       "      <td>2</td>\n",
       "    </tr>\n",
       "    <tr>\n",
       "      <th>2</th>\n",
       "      <td>1</td>\n",
       "      <td>43276</td>\n",
       "      <td>8472</td>\n",
       "      <td>8650</td>\n",
       "      <td>1</td>\n",
       "      <td>2</td>\n",
       "      <td>4</td>\n",
       "      <td>6</td>\n",
       "      <td>8</td>\n",
       "      <td>2</td>\n",
       "      <td>...</td>\n",
       "      <td>1</td>\n",
       "      <td>8</td>\n",
       "      <td>46.0</td>\n",
       "      <td>54.0</td>\n",
       "      <td>0</td>\n",
       "      <td>1</td>\n",
       "      <td>8</td>\n",
       "      <td>2008</td>\n",
       "      <td>-1</td>\n",
       "      <td>0</td>\n",
       "    </tr>\n",
       "    <tr>\n",
       "      <th>3</th>\n",
       "      <td>1</td>\n",
       "      <td>40671</td>\n",
       "      <td>8654</td>\n",
       "      <td>8528</td>\n",
       "      <td>1</td>\n",
       "      <td>2</td>\n",
       "      <td>4</td>\n",
       "      <td>6</td>\n",
       "      <td>8</td>\n",
       "      <td>2</td>\n",
       "      <td>...</td>\n",
       "      <td>6</td>\n",
       "      <td>10</td>\n",
       "      <td>52.0</td>\n",
       "      <td>48.0</td>\n",
       "      <td>2</td>\n",
       "      <td>1</td>\n",
       "      <td>8</td>\n",
       "      <td>2008</td>\n",
       "      <td>1</td>\n",
       "      <td>2</td>\n",
       "    </tr>\n",
       "    <tr>\n",
       "      <th>4</th>\n",
       "      <td>1</td>\n",
       "      <td>34633</td>\n",
       "      <td>10252</td>\n",
       "      <td>8456</td>\n",
       "      <td>1</td>\n",
       "      <td>2</td>\n",
       "      <td>4</td>\n",
       "      <td>6</td>\n",
       "      <td>8</td>\n",
       "      <td>2</td>\n",
       "      <td>...</td>\n",
       "      <td>7</td>\n",
       "      <td>8</td>\n",
       "      <td>52.0</td>\n",
       "      <td>48.0</td>\n",
       "      <td>4</td>\n",
       "      <td>2</td>\n",
       "      <td>8</td>\n",
       "      <td>2008</td>\n",
       "      <td>2</td>\n",
       "      <td>2</td>\n",
       "    </tr>\n",
       "  </tbody>\n",
       "</table>\n",
       "<p>5 rows × 92 columns</p>\n",
       "</div>"
      ],
      "text/plain": [
       "   stage  match_id  home_team_id  away_team_id  home_player_X1  \\\n",
       "0      1     49337         10260         10261               1   \n",
       "1      1     38136          9825          8659               1   \n",
       "2      1     43276          8472          8650               1   \n",
       "3      1     40671          8654          8528               1   \n",
       "4      1     34633         10252          8456               1   \n",
       "\n",
       "   home_player_X2  home_player_X3  home_player_X4  home_player_X5  \\\n",
       "0               2               4               6               8   \n",
       "1               2               4               6               8   \n",
       "2               2               4               6               8   \n",
       "3               2               4               6               8   \n",
       "4               2               4               6               8   \n",
       "\n",
       "   home_player_X6  ...  corner_home_team  corner_away_team  \\\n",
       "0               2  ...                 6                 6   \n",
       "1               2  ...                 7                 5   \n",
       "2               2  ...                 1                 8   \n",
       "3               2  ...                 6                10   \n",
       "4               2  ...                 7                 8   \n",
       "\n",
       "   possession_home_team  possession_away_team  home_team_goal  away_team_goal  \\\n",
       "0                  55.0                  45.0               1               1   \n",
       "1                  66.0                  34.0               1               0   \n",
       "2                  46.0                  54.0               0               1   \n",
       "3                  52.0                  48.0               2               1   \n",
       "4                  52.0                  48.0               4               2   \n",
       "\n",
       "   month  year  Value  Label  \n",
       "0      8  2008      0      1  \n",
       "1      8  2008      1      2  \n",
       "2      8  2008     -1      0  \n",
       "3      8  2008      1      2  \n",
       "4      8  2008      2      2  \n",
       "\n",
       "[5 rows x 92 columns]"
      ]
     },
     "execution_count": 8,
     "metadata": {},
     "output_type": "execute_result"
    }
   ],
   "source": [
    "data['Value'] = data['home_team_goal']-data['away_team_goal']\n",
    "data['Label'] = data['Value'].apply(lambda x: func(x))\n",
    "data.head()"
   ]
  },
  {
   "cell_type": "code",
   "execution_count": 9,
   "metadata": {},
   "outputs": [],
   "source": [
    "data = data.dropna()"
   ]
  },
  {
   "cell_type": "markdown",
   "metadata": {},
   "source": [
    "## MODEL BUILDING"
   ]
  },
  {
   "cell_type": "code",
   "execution_count": 10,
   "metadata": {},
   "outputs": [
    {
     "name": "stdout",
     "output_type": "stream",
     "text": [
      "(2206, 92) (2206,)\n"
     ]
    }
   ],
   "source": [
    "train = data[data['year']!=2014]\n",
    "y_train = train[\"Label\"]\n",
    "print(train.shape,y_train.shape)"
   ]
  },
  {
   "cell_type": "code",
   "execution_count": 11,
   "metadata": {},
   "outputs": [
    {
     "name": "stdout",
     "output_type": "stream",
     "text": [
      "(373, 92) (373,)\n"
     ]
    }
   ],
   "source": [
    "test = data[data['year']== 2014]\n",
    "y_test = test[\"Label\"]\n",
    "print(test.shape,y_test.shape)"
   ]
  },
  {
   "cell_type": "code",
   "execution_count": 12,
   "metadata": {},
   "outputs": [],
   "source": [
    "X_train = train[['year','match_id',  'home_team_id', 'away_team_id',\n",
    "        'home_player_X1', 'home_player_X2', 'home_player_X3', 'home_player_X4',\n",
    "       'home_player_X5', 'home_player_X6', 'home_player_X7', 'home_player_X8',\n",
    "       'home_player_X9', 'home_player_X10', 'home_player_X11',\n",
    "       'away_player_X1', 'away_player_X2', 'away_player_X3', 'away_player_X4',\n",
    "       'away_player_X5', 'away_player_X6', 'away_player_X7', 'away_player_X8',\n",
    "       'away_player_X9', 'away_player_X10', 'away_player_X11',\n",
    "       'home_player_Y1', 'home_player_Y2', 'home_player_Y3', 'home_player_Y4',\n",
    "       'home_player_Y5', 'home_player_Y6', 'home_player_Y7', 'home_player_Y8',\n",
    "       'home_player_Y9', 'home_player_Y10', 'home_player_Y11',\n",
    "       'away_player_Y1', 'away_player_Y2', 'away_player_Y3', 'away_player_Y4',\n",
    "       'away_player_Y5', 'away_player_Y6', 'away_player_Y7', 'away_player_Y8',\n",
    "       'away_player_Y9', 'away_player_Y10', 'away_player_Y11', 'home_player_1',\n",
    "       'home_player_2', 'home_player_3', 'home_player_4', 'home_player_5',\n",
    "       'home_player_6', 'home_player_7', 'home_player_8', 'home_player_9',\n",
    "       'home_player_10', 'home_player_11', 'away_player_1', 'away_player_2',\n",
    "       'away_player_3', 'away_player_4', 'away_player_5', 'away_player_6',\n",
    "       'away_player_7', 'away_player_8', 'away_player_9', 'away_player_10',\n",
    "       'away_player_11' ]]"
   ]
  },
  {
   "cell_type": "code",
   "execution_count": 13,
   "metadata": {},
   "outputs": [],
   "source": [
    "X_test = test[['year','match_id',  'home_team_id', 'away_team_id',\n",
    "        'home_player_X1', 'home_player_X2', 'home_player_X3', 'home_player_X4',\n",
    "       'home_player_X5', 'home_player_X6', 'home_player_X7', 'home_player_X8',\n",
    "       'home_player_X9', 'home_player_X10', 'home_player_X11',\n",
    "       'away_player_X1', 'away_player_X2', 'away_player_X3', 'away_player_X4',\n",
    "       'away_player_X5', 'away_player_X6', 'away_player_X7', 'away_player_X8',\n",
    "       'away_player_X9', 'away_player_X10', 'away_player_X11',\n",
    "       'home_player_Y1', 'home_player_Y2', 'home_player_Y3', 'home_player_Y4',\n",
    "       'home_player_Y5', 'home_player_Y6', 'home_player_Y7', 'home_player_Y8',\n",
    "       'home_player_Y9', 'home_player_Y10', 'home_player_Y11',\n",
    "       'away_player_Y1', 'away_player_Y2', 'away_player_Y3', 'away_player_Y4',\n",
    "       'away_player_Y5', 'away_player_Y6', 'away_player_Y7', 'away_player_Y8',\n",
    "       'away_player_Y9', 'away_player_Y10', 'away_player_Y11', 'home_player_1',\n",
    "       'home_player_2', 'home_player_3', 'home_player_4', 'home_player_5',\n",
    "       'home_player_6', 'home_player_7', 'home_player_8', 'home_player_9',\n",
    "       'home_player_10', 'home_player_11', 'away_player_1', 'away_player_2',\n",
    "       'away_player_3', 'away_player_4', 'away_player_5', 'away_player_6',\n",
    "       'away_player_7', 'away_player_8', 'away_player_9', 'away_player_10',\n",
    "       'away_player_11'\n",
    "       ]]"
   ]
  },
  {
   "cell_type": "code",
   "execution_count": 14,
   "metadata": {},
   "outputs": [
    {
     "data": {
      "text/plain": [
       "(2206, 70)"
      ]
     },
     "execution_count": 14,
     "metadata": {},
     "output_type": "execute_result"
    }
   ],
   "source": [
    "X_train.shape"
   ]
  },
  {
   "cell_type": "code",
   "execution_count": 15,
   "metadata": {},
   "outputs": [
    {
     "data": {
      "text/plain": [
       "(373, 70)"
      ]
     },
     "execution_count": 15,
     "metadata": {},
     "output_type": "execute_result"
    }
   ],
   "source": [
    "X_test.shape"
   ]
  },
  {
   "cell_type": "markdown",
   "metadata": {},
   "source": [
    "### Model "
   ]
  },
  {
   "cell_type": "code",
   "execution_count": 16,
   "metadata": {},
   "outputs": [],
   "source": [
    "# xgb = XGBClassifier(random_state=0)\n",
    "# xgb.fit(X_train, y_train)\n",
    "# preds = xgb.predict(X_test)\n",
    "# print(\"Accuracy: \", accuracy_score(y_test, preds))"
   ]
  },
  {
   "cell_type": "code",
   "execution_count": 17,
   "metadata": {},
   "outputs": [],
   "source": [
    "# parm = PermutationImportance(xgb).fit(X_test, y_test)\n",
    "# eli5.show_weights(parm, feature_names=X_test.columns.tolist())"
   ]
  },
  {
   "cell_type": "code",
   "execution_count": 18,
   "metadata": {},
   "outputs": [],
   "source": [
    "# plt.figure(figsize=(10,10))\n",
    "# sns.barplot(x=(xgb.feature_importances_)/sum(xgb.feature_importances_), y=X_train.columns)"
   ]
  },
  {
   "cell_type": "code",
   "execution_count": 19,
   "metadata": {},
   "outputs": [
    {
     "name": "stdout",
     "output_type": "stream",
     "text": [
      "Accuracy:  0.5013404825737265\n"
     ]
    }
   ],
   "source": [
    "rf = RandomForestClassifier()\n",
    "rf.fit(X_train, y_train)\n",
    "preds = rf.predict(X_test)\n",
    "print(\"Accuracy: \", accuracy_score(y_test, preds))"
   ]
  },
  {
   "cell_type": "markdown",
   "metadata": {},
   "source": [
    "### Hypertuning Random_Forest Classifier (Not worked: Getting only 2 classifications)"
   ]
  },
  {
   "cell_type": "code",
   "execution_count": 20,
   "metadata": {},
   "outputs": [],
   "source": [
    "# Number of trees in random forest\n",
    "# n_estimators = [int(x) for x in np.linspace(start = 10, stop = 80, num = 10)]\n",
    "# # Number of features to consider at every split\n",
    "# max_features = ['sqrt']\n",
    "# # Maximum number of levels in tree\n",
    "# max_depth = [2,4]\n",
    "# # Minimum number of samples required to split a node\n",
    "# min_samples_split = [3, 5]\n",
    "# # Minimum number of samples required at each leaf node\n",
    "# min_samples_leaf = [2,3]\n",
    "# # Method of selecting samples for training each tree\n"
   ]
  },
  {
   "cell_type": "code",
   "execution_count": 21,
   "metadata": {},
   "outputs": [],
   "source": [
    "# # Create the param grid\n",
    "# param_grid = {'n_estimators': n_estimators,\n",
    "#                'max_features': max_features,\n",
    "#                'max_depth': max_depth,\n",
    "#                'min_samples_split': min_samples_split,\n",
    "#                'min_samples_leaf': min_samples_leaf}"
   ]
  },
  {
   "cell_type": "code",
   "execution_count": 22,
   "metadata": {},
   "outputs": [],
   "source": [
    "# rf_Model = RandomForestClassifier()"
   ]
  },
  {
   "cell_type": "code",
   "execution_count": 23,
   "metadata": {},
   "outputs": [],
   "source": [
    "# from sklearn.model_selection import GridSearchCV\n",
    "# rf_Grid = GridSearchCV(estimator = rf_Model, param_grid = param_grid, cv = 3, n_jobs = 4)"
   ]
  },
  {
   "cell_type": "code",
   "execution_count": 24,
   "metadata": {},
   "outputs": [],
   "source": [
    "# rf_Grid.fit(X_train, y_train)"
   ]
  },
  {
   "cell_type": "code",
   "execution_count": 25,
   "metadata": {},
   "outputs": [],
   "source": [
    "# rf_Grid.best_params_"
   ]
  },
  {
   "cell_type": "code",
   "execution_count": 26,
   "metadata": {},
   "outputs": [],
   "source": [
    "# rf_Grid.score(X_train,y_train)"
   ]
  },
  {
   "cell_type": "code",
   "execution_count": 27,
   "metadata": {},
   "outputs": [],
   "source": [
    "# preds = rf_Grid.predict(X_test)\n",
    "# preds\n"
   ]
  },
  {
   "cell_type": "code",
   "execution_count": 28,
   "metadata": {},
   "outputs": [],
   "source": [
    "# ada = AdaBoostClassifier()\n",
    "# ada.fit(X_train, y_train)\n",
    "# preds = ada.predict(X_test)\n",
    "# print(\"Accuracy: \", accuracy_score(y_test, preds))"
   ]
  },
  {
   "cell_type": "code",
   "execution_count": 29,
   "metadata": {},
   "outputs": [],
   "source": [
    "# lgb = LGBMClassifier(random_state=0)\n",
    "# lgb.fit(X_train, y_train)\n",
    "# preds = lgb.predict(X_test)\n",
    "# print(\"Accuracy: \", accuracy_score(y_test, preds))"
   ]
  },
  {
   "cell_type": "markdown",
   "metadata": {},
   "source": [
    "### IMPORTING TEST CSV FILE & APPLYING MODEL ON IT"
   ]
  },
  {
   "cell_type": "code",
   "execution_count": 30,
   "metadata": {},
   "outputs": [
    {
     "data": {
      "text/plain": [
       "(380, 72)"
      ]
     },
     "execution_count": 30,
     "metadata": {},
     "output_type": "execute_result"
    }
   ],
   "source": [
    "test=pd.read_csv('epl_matches_test.csv')\n",
    "test.shape"
   ]
  },
  {
   "cell_type": "code",
   "execution_count": 31,
   "metadata": {},
   "outputs": [],
   "source": [
    "test['date'] = pd.to_datetime(test['date'], errors='coerce')\n",
    "data['month'] = test['date'].dt.month\n",
    "test['year'] = test['date'].dt.year"
   ]
  },
  {
   "cell_type": "code",
   "execution_count": 32,
   "metadata": {},
   "outputs": [],
   "source": [
    "test_data= test[['year','match_id',  'home_team_id', 'away_team_id',\n",
    "        'home_player_X1', 'home_player_X2', 'home_player_X3', 'home_player_X4',\n",
    "       'home_player_X5', 'home_player_X6', 'home_player_X7', 'home_player_X8',\n",
    "       'home_player_X9', 'home_player_X10', 'home_player_X11',\n",
    "       'away_player_X1', 'away_player_X2', 'away_player_X3', 'away_player_X4',\n",
    "       'away_player_X5', 'away_player_X6', 'away_player_X7', 'away_player_X8',\n",
    "       'away_player_X9', 'away_player_X10', 'away_player_X11',\n",
    "       'home_player_Y1', 'home_player_Y2', 'home_player_Y3', 'home_player_Y4',\n",
    "       'home_player_Y5', 'home_player_Y6', 'home_player_Y7', 'home_player_Y8',\n",
    "       'home_player_Y9', 'home_player_Y10', 'home_player_Y11',\n",
    "       'away_player_Y1', 'away_player_Y2', 'away_player_Y3', 'away_player_Y4',\n",
    "       'away_player_Y5', 'away_player_Y6', 'away_player_Y7', 'away_player_Y8',\n",
    "       'away_player_Y9', 'away_player_Y10', 'away_player_Y11', 'home_player_1',\n",
    "       'home_player_2', 'home_player_3', 'home_player_4', 'home_player_5',\n",
    "       'home_player_6', 'home_player_7', 'home_player_8', 'home_player_9',\n",
    "       'home_player_10', 'home_player_11', 'away_player_1', 'away_player_2',\n",
    "       'away_player_3', 'away_player_4', 'away_player_5', 'away_player_6',\n",
    "       'away_player_7', 'away_player_8', 'away_player_9', 'away_player_10',\n",
    "       'away_player_11' ]]"
   ]
  },
  {
   "cell_type": "code",
   "execution_count": 33,
   "metadata": {},
   "outputs": [
    {
     "data": {
      "text/plain": [
       "(380, 70)"
      ]
     },
     "execution_count": 33,
     "metadata": {},
     "output_type": "execute_result"
    }
   ],
   "source": [
    "test_data=test_data.fillna(0)\n",
    "test_data.shape"
   ]
  },
  {
   "cell_type": "code",
   "execution_count": 34,
   "metadata": {},
   "outputs": [],
   "source": [
    "test_preds = rf.predict(test_data)"
   ]
  },
  {
   "cell_type": "code",
   "execution_count": 35,
   "metadata": {},
   "outputs": [
    {
     "data": {
      "text/plain": [
       "array([2, 2, 2, 2, 2, 2, 0, 0, 2, 0, 2, 2, 2, 0, 2, 2, 2, 2, 2, 0, 2, 2,\n",
       "       2, 2, 0, 2, 0, 2, 1, 0, 2, 0, 2, 2, 2, 2, 0, 2, 2, 2, 2, 2, 2, 2,\n",
       "       0, 2, 2, 2, 2, 0, 0, 0, 2, 0, 2, 2, 2, 0, 2, 1, 2, 2, 2, 2, 0, 0,\n",
       "       1, 2, 2, 2, 0, 0, 0, 0, 2, 2, 2, 2, 2, 1, 2, 2, 2, 2, 2, 2, 2, 2,\n",
       "       2, 2, 0, 2, 2, 2, 2, 2, 1, 2, 2, 2, 2, 0, 2, 2, 2, 2, 0, 2, 0, 0,\n",
       "       0, 1, 2, 2, 0, 0, 2, 0, 2, 2, 2, 0, 2, 2, 2, 0, 0, 0, 0, 0, 2, 2,\n",
       "       0, 1, 2, 2, 0, 2, 2, 2, 0, 2, 2, 0, 2, 2, 1, 2, 2, 2, 2, 2, 2, 0,\n",
       "       2, 2, 2, 0, 2, 0, 2, 0, 2, 2, 2, 2, 2, 2, 0, 2, 0, 0, 2, 2, 2, 0,\n",
       "       0, 2, 1, 2, 2, 2, 1, 2, 0, 2, 2, 0, 0, 2, 0, 2, 0, 2, 0, 2, 2, 2,\n",
       "       2, 0, 2, 0, 0, 2, 2, 2, 0, 0, 2, 2, 2, 2, 0, 2, 2, 2, 2, 2, 2, 0,\n",
       "       2, 2, 1, 0, 2, 0, 2, 2, 1, 2, 2, 0, 0, 0, 0, 2, 2, 2, 2, 2, 2, 2,\n",
       "       2, 2, 0, 2, 2, 1, 0, 2, 2, 0, 0, 0, 2, 2, 2, 2, 0, 1, 0, 2, 0, 2,\n",
       "       2, 0, 0, 2, 0, 2, 2, 0, 2, 2, 0, 2, 2, 2, 0, 2, 0, 0, 0, 0, 2, 2,\n",
       "       2, 0, 2, 2, 2, 2, 2, 2, 0, 0, 2, 2, 2, 2, 0, 2, 0, 0, 2, 0, 2, 0,\n",
       "       2, 2, 2, 2, 0, 1, 1, 2, 2, 2, 2, 2, 0, 0, 2, 0, 2, 0, 0, 2, 2, 2,\n",
       "       2, 2, 0, 0, 2, 2, 2, 2, 0, 0, 2, 0, 2, 2, 2, 2, 2, 2, 0, 0, 0, 2,\n",
       "       2, 0, 2, 2, 0, 2, 0, 2, 2, 0, 0, 2, 2, 0, 2, 2, 2, 0, 2, 2, 2, 2,\n",
       "       2, 2, 2, 2, 1, 0], dtype=int64)"
      ]
     },
     "execution_count": 35,
     "metadata": {},
     "output_type": "execute_result"
    }
   ],
   "source": [
    "test_preds"
   ]
  },
  {
   "cell_type": "code",
   "execution_count": 36,
   "metadata": {},
   "outputs": [],
   "source": [
    "test_preds = pd.DataFrame(test_preds, columns = ['result'])"
   ]
  },
  {
   "cell_type": "code",
   "execution_count": 37,
   "metadata": {},
   "outputs": [],
   "source": [
    "test_preds.replace(to_replace = {0:'lose',1:'draw',2:'win'},inplace=True )"
   ]
  },
  {
   "cell_type": "code",
   "execution_count": 38,
   "metadata": {},
   "outputs": [],
   "source": [
    "prediction_submission=pd.read_csv('prediction_submission.csv')"
   ]
  },
  {
   "cell_type": "code",
   "execution_count": 39,
   "metadata": {},
   "outputs": [],
   "source": [
    "prediction_submission['match_id']= test_data['match_id']"
   ]
  },
  {
   "cell_type": "code",
   "execution_count": 40,
   "metadata": {},
   "outputs": [],
   "source": [
    "prediction_submission['result'] = test_preds['result']"
   ]
  },
  {
   "cell_type": "code",
   "execution_count": 41,
   "metadata": {},
   "outputs": [
    {
     "data": {
      "text/html": [
       "<div>\n",
       "<style scoped>\n",
       "    .dataframe tbody tr th:only-of-type {\n",
       "        vertical-align: middle;\n",
       "    }\n",
       "\n",
       "    .dataframe tbody tr th {\n",
       "        vertical-align: top;\n",
       "    }\n",
       "\n",
       "    .dataframe thead th {\n",
       "        text-align: right;\n",
       "    }\n",
       "</style>\n",
       "<table border=\"1\" class=\"dataframe\">\n",
       "  <thead>\n",
       "    <tr style=\"text-align: right;\">\n",
       "      <th></th>\n",
       "      <th>match_id</th>\n",
       "      <th>result</th>\n",
       "    </tr>\n",
       "  </thead>\n",
       "  <tbody>\n",
       "    <tr>\n",
       "      <th>0</th>\n",
       "      <td>48994</td>\n",
       "      <td>win</td>\n",
       "    </tr>\n",
       "    <tr>\n",
       "      <th>1</th>\n",
       "      <td>54777</td>\n",
       "      <td>win</td>\n",
       "    </tr>\n",
       "    <tr>\n",
       "      <th>2</th>\n",
       "      <td>31434</td>\n",
       "      <td>win</td>\n",
       "    </tr>\n",
       "    <tr>\n",
       "      <th>3</th>\n",
       "      <td>56248</td>\n",
       "      <td>win</td>\n",
       "    </tr>\n",
       "    <tr>\n",
       "      <th>4</th>\n",
       "      <td>44311</td>\n",
       "      <td>win</td>\n",
       "    </tr>\n",
       "    <tr>\n",
       "      <th>5</th>\n",
       "      <td>49672</td>\n",
       "      <td>win</td>\n",
       "    </tr>\n",
       "    <tr>\n",
       "      <th>6</th>\n",
       "      <td>48506</td>\n",
       "      <td>lose</td>\n",
       "    </tr>\n",
       "    <tr>\n",
       "      <th>7</th>\n",
       "      <td>45922</td>\n",
       "      <td>lose</td>\n",
       "    </tr>\n",
       "    <tr>\n",
       "      <th>8</th>\n",
       "      <td>45509</td>\n",
       "      <td>win</td>\n",
       "    </tr>\n",
       "    <tr>\n",
       "      <th>9</th>\n",
       "      <td>48741</td>\n",
       "      <td>lose</td>\n",
       "    </tr>\n",
       "  </tbody>\n",
       "</table>\n",
       "</div>"
      ],
      "text/plain": [
       "   match_id result\n",
       "0     48994    win\n",
       "1     54777    win\n",
       "2     31434    win\n",
       "3     56248    win\n",
       "4     44311    win\n",
       "5     49672    win\n",
       "6     48506   lose\n",
       "7     45922   lose\n",
       "8     45509    win\n",
       "9     48741   lose"
      ]
     },
     "execution_count": 41,
     "metadata": {},
     "output_type": "execute_result"
    }
   ],
   "source": [
    "prediction_submission.head(10)"
   ]
  },
  {
   "cell_type": "markdown",
   "metadata": {},
   "source": [
    "### Saving FIle to destination folder"
   ]
  },
  {
   "cell_type": "code",
   "execution_count": 42,
   "metadata": {},
   "outputs": [],
   "source": [
    "prediction_submission.to_csv('prediction_submission.csv', index= False)"
   ]
  }
 ],
 "metadata": {
  "kernelspec": {
   "display_name": "Python 3",
   "language": "python",
   "name": "python3"
  },
  "language_info": {
   "codemirror_mode": {
    "name": "ipython",
    "version": 3
   },
   "file_extension": ".py",
   "mimetype": "text/x-python",
   "name": "python",
   "nbconvert_exporter": "python",
   "pygments_lexer": "ipython3",
   "version": "3.8.8"
  }
 },
 "nbformat": 4,
 "nbformat_minor": 2
}
